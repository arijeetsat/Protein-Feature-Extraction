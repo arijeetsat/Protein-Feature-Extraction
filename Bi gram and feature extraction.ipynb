{
 "cells": [
  {
   "cell_type": "code",
   "execution_count": 13,
   "metadata": {},
   "outputs": [
    {
     "name": "stdout",
     "output_type": "stream",
     "text": [
      "XXBXUUJJBUUXUUXZUBXJXJJXUUJUXUBXXXXZUZUJBZZJUZUJXUUUJUXXUJUBXBUBUBBXXUUZUJUXUBXJJXBUUZUUXUJXBOJBXBXJUJJZBXXUJXXXOXXUBBZUBJZUUUXJUUZJBXXUUXUJUXUBBZB\n",
      "470\n"
     ]
    }
   ],
   "source": [
    "from Bio.SeqUtils.ProtParam import ProteinAnalysis\n",
    "my_seq = \"MVHLTPEEKSAVTALWGKVNVDEVGGEALGRLLVVYPWTQRFFESFGDLSTPDAVMGNPKVKAHGKKVLGAFSDGLAHLDNLKGTFATLSELHCDKLHVDPENFRLLGNVLVCVLAHHFGKEFTPPVQAAYQKVVAGVANALAHKYH\"\n",
    "analysed_seq = ProteinAnalysis(my_seq)\n",
    "\n",
    "\n",
    "unigram=analysed_seq.count_amino_acids()\n",
    "uni=list(unigram.values())\n",
    "\n",
    "#code for bigram \n",
    "a='ACDEFGHIKLMNPQRSTVWY'\n",
    "b=[]\n",
    "for i in range(0,len(a)):\n",
    "    for j in range(0,len(a)):\n",
    "        b.append(a[i]+a[j])\n",
    "\n",
    "#c = [b[i:i+2] for i in range(len(b)-1)]\n",
    "\n",
    "bi=dict((letter,my_seq.count(letter)) for letter in set(b))\n",
    "bi=list(bi.values())\n",
    "\n",
    "#forming exchange groups\n",
    "\n",
    "my_seq1=list(my_seq)\n",
    "\n",
    "for i in range(0,len(my_seq)):\n",
    "\tif my_seq1[i]=='H'or my_seq1[i]=='R'or my_seq1[i]=='K':\n",
    "\t\tmy_seq1[i]='B'\n",
    "\n",
    "\telif my_seq1[i]=='D'or my_seq1[i]=='E'or my_seq1[i]=='N'or my_seq1[i]=='Q':\n",
    "\t\tmy_seq1[i]='J'\n",
    "\n",
    "\telif my_seq1[i]=='C':\n",
    "\t\tmy_seq1[i]='O'\n",
    "\n",
    "\telif my_seq1[i]=='S'or my_seq1[i]=='T'or my_seq1[i]=='P'or my_seq1[i]=='A'or my_seq1[i]=='G':\n",
    "\t\tmy_seq1[i]='U'\n",
    "\n",
    "\telif my_seq1[i]== 'M'or my_seq1[i]=='I'or my_seq1[i]=='L'or my_seq1[i]=='V':\n",
    "\t\tmy_seq1[i]='X'\n",
    "\n",
    "\telif my_seq1[i]=='F'or my_seq1[i]=='Y'or my_seq1[i]=='W':\n",
    "\t\tmy_seq1[i]='Z'\n",
    "\n",
    "my_seq1=\"\".join(my_seq1)\n",
    "print(my_seq1)\n",
    "\n",
    "#unigram\n",
    "\n",
    "aex='BJOUXZ'\n",
    "uniex=dict((letter,my_seq1.count(letter)) for letter in set(aex))\n",
    "uniex=list(uniex.values())\n",
    "\n",
    "\n",
    "\n",
    "#bigram of exchange groups\n",
    "\n",
    "bex=[]\n",
    "for i in range(0,len(aex)):\n",
    "    for j in range(0,len(aex)):\n",
    "        bex.append(aex[i]+aex[j])\n",
    "        \n",
    "biex=dict((letter,my_seq1.count(letter)) for letter in set(bex))\n",
    "biex=list(biex.values())\n",
    "\n",
    "iso=analysed_seq.isoelectric_point()\n",
    "mol=analysed_seq.molecular_weight\n",
    "\n",
    "\n",
    "X=[0]*470\n",
    "print(len(X))\n",
    "\n",
    "X[6]=iso\n",
    "\n",
    "X[8:28]=uni[:]\n",
    "\n",
    "X[28:428]=bi[:]\n",
    "\n",
    "X[428:434]=uniex[:]\n",
    "\n",
    "X[434:470]=biex[:]\n",
    "\n",
    "\n",
    "import pandas as pd\n",
    "\n",
    "df= pd.DataFrame(data={'p1':X})\n",
    "\n",
    "df.to_csv(\"./file.csv\", sep=',',index=False)\n",
    "\n",
    "\n"
   ]
  },
  {
   "cell_type": "code",
   "execution_count": 14,
   "metadata": {},
   "outputs": [
    {
     "name": "stdout",
     "output_type": "stream",
     "text": [
      "[0, 0, 0, 0, 0, 0, 6.74456787109375, 0, 15, 2, 7, 8, 8, 13, 9, 0, 11, 18, 2, 6, 7, 3, 3, 5, 7, 18, 2, 3, 0, 1, 0, 0, 0, 0, 0, 0, 3, 0, 2, 1, 0, 0, 1, 2, 0, 0, 0, 1, 0, 0, 0, 0, 0, 1, 0, 0, 0, 0, 0, 0, 0, 0, 0, 0, 0, 1, 0, 0, 0, 0, 0, 2, 0, 1, 0, 0, 0, 1, 2, 0, 0, 0, 1, 0, 0, 0, 1, 1, 0, 0, 0, 1, 1, 0, 0, 0, 0, 1, 0, 0, 0, 0, 0, 0, 0, 0, 0, 1, 0, 0, 0, 0, 0, 1, 1, 0, 2, 0, 0, 1, 0, 0, 0, 1, 0, 1, 0, 0, 0, 0, 0, 0, 0, 0, 1, 0, 2, 0, 0, 1, 1, 2, 1, 0, 2, 0, 0, 0, 0, 2, 0, 2, 1, 0, 0, 0, 0, 0, 1, 1, 0, 1, 0, 0, 0, 0, 0, 0, 0, 2, 1, 0, 0, 1, 1, 0, 0, 0, 0, 0, 1, 0, 1, 0, 0, 4, 0, 0, 0, 0, 0, 1, 1, 0, 1, 1, 0, 3, 0, 0, 1, 0, 0, 1, 0, 0, 1, 0, 0, 1, 1, 1, 0, 0, 0, 0, 0, 1, 0, 0, 1, 0, 0, 0, 0, 0, 0, 2, 0, 0, 0, 1, 1, 0, 0, 0, 0, 0, 1, 0, 0, 0, 0, 0, 0, 0, 1, 1, 0, 0, 1, 0, 0, 0, 3, 0, 0, 0, 1, 0, 0, 0, 0, 0, 0, 0, 1, 1, 0, 0, 0, 0, 3, 0, 1, 0, 0, 0, 1, 0, 1, 0, 0, 0, 0, 0, 0, 0, 0, 0, 1, 0, 1, 0, 0, 0, 0, 1, 0, 0, 0, 0, 0, 0, 0, 0, 0, 1, 0, 0, 1, 0, 3, 0, 1, 1, 0, 1, 0, 1, 0, 0, 0, 1, 2, 1, 1, 1, 0, 0, 0, 1, 1, 0, 0, 0, 0, 0, 0, 0, 0, 0, 0, 0, 0, 1, 0, 1, 0, 1, 0, 1, 0, 0, 1, 0, 0, 0, 0, 0, 0, 0, 1, 1, 1, 0, 0, 0, 0, 1, 0, 0, 0, 0, 2, 1, 0, 0, 1, 0, 0, 1, 1, 0, 0, 0, 0, 0, 1, 0, 0, 0, 1, 0, 0, 4, 0, 0, 0, 0, 3, 0, 0, 0, 0, 1, 0, 1, 0, 0, 0, 0, 0, 0, 0, 0, 1, 0, 0, 0, 0, 0, 0, 1, 0, 0, 1, 0, 24, 38, 2, 23, 13, 47, 10, 6, 1, 8, 2, 0, 0, 1, 4, 9, 4, 4, 0, 3, 1, 0, 1, 0, 11, 3, 8, 0, 5, 5, 1, 0, 2, 5, 1, 0, 14, 11, 2, 2, 9, 9]\n"
     ]
    }
   ],
   "source": [
    "print(X)"
   ]
  },
  {
   "cell_type": "code",
   "execution_count": 12,
   "metadata": {},
   "outputs": [
    {
     "data": {
      "text/plain": [
       "470"
      ]
     },
     "execution_count": 12,
     "metadata": {},
     "output_type": "execute_result"
    }
   ],
   "source": [
    "len(X)"
   ]
  },
  {
   "cell_type": "code",
   "execution_count": null,
   "metadata": {},
   "outputs": [],
   "source": []
  },
  {
   "cell_type": "code",
   "execution_count": null,
   "metadata": {},
   "outputs": [],
   "source": []
  },
  {
   "cell_type": "code",
   "execution_count": null,
   "metadata": {
    "collapsed": true
   },
   "outputs": [],
   "source": []
  },
  {
   "cell_type": "code",
   "execution_count": null,
   "metadata": {
    "collapsed": true
   },
   "outputs": [],
   "source": []
  }
 ],
 "metadata": {
  "kernelspec": {
   "display_name": "Python 3",
   "language": "python",
   "name": "python3"
  },
  "language_info": {
   "codemirror_mode": {
    "name": "ipython",
    "version": 3
   },
   "file_extension": ".py",
   "mimetype": "text/x-python",
   "name": "python",
   "nbconvert_exporter": "python",
   "pygments_lexer": "ipython3",
   "version": "3.6.3"
  }
 },
 "nbformat": 4,
 "nbformat_minor": 2
}
