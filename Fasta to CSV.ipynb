{
 "cells": [
  {
   "cell_type": "code",
   "execution_count": 5,
   "metadata": {
    "scrolled": false
   },
   "outputs": [
    {
     "name": "stdout",
     "output_type": "stream",
     "text": [
      "Enter file name:final_data.fasta\n",
      "                                Meta  \\\n",
      "0             tr|C5DYT1|C5DYT1_ZYGRC   \n",
      "1             tr|C5DS97|C5DS97_ZYGRC   \n",
      "2             tr|F8EV00|F8EV00_ZYMMT   \n",
      "3     tr|A0A1Q3A3Z5|A0A1Q3A3Z5_ZYGRO   \n",
      "4     tr|A0A1Q2ZVT8|A0A1Q2ZVT8_ZYGRO   \n",
      "5     tr|A0A1Q3AI89|A0A1Q3AI89_ZYGRO   \n",
      "6     tr|A0A1Q3AAB2|A0A1Q3AAB2_ZYGRO   \n",
      "7     tr|A0A0H2MVN2|A0A0H2MVN2_9VIBR   \n",
      "8               sp|P11412|G6PD_YEAST   \n",
      "9     tr|A0A1B2JH93|A0A1B2JH93_PICPA   \n",
      "10            tr|F2QUU8|F2QUU8_KOMPC   \n",
      "11    tr|A0A1S7HWM3|A0A1S7HWM3_9SACH   \n",
      "12    tr|A0A1S7HNI5|A0A1S7HNI5_9SACH   \n",
      "13    tr|A0A1S7HE35|A0A1S7HE35_9SACH   \n",
      "14    tr|A0A1S7HAK3|A0A1S7HAK3_9SACH   \n",
      "15    tr|A0A0K9NNK8|A0A0K9NNK8_ZOSMR   \n",
      "16    tr|A0A0K9P7N7|A0A0K9P7N7_ZOSMR   \n",
      "17            tr|G0L0F4|G0L0F4_ZOBGA   \n",
      "18            tr|G0LBS1|G0LBS1_ZOBGA   \n",
      "19    tr|A0A0H3FWU0|A0A0H3FWU0_ZYMMA   \n",
      "20            tr|Q5NP54|Q5NP54_ZYMMO   \n",
      "21    tr|A0A084WLX6|A0A084WLX6_ANOSI   \n",
      "22    tr|A0A084WI00|A0A084WI00_ANOSI   \n",
      "23    tr|A0A084VM90|A0A084VM90_ANOSI   \n",
      "24            tr|A3KP86|A3KP86_DANRE   \n",
      "25              sp|Q8IX07|FOG1_HUMAN   \n",
      "26              sp|O35615|FOG1_MOUSE   \n",
      "27            tr|K7VVW1|K7VVW1_MAIZE   \n",
      "28    tr|A0A1D6P2W8|A0A1D6P2W8_MAIZE   \n",
      "29    tr|A0A1D6P2W9|A0A1D6P2W9_MAIZE   \n",
      "...                              ...   \n",
      "2420            sp|P56709|DNLI_PYRFU   \n",
      "2421            sp|Q92462|PUB1_SCHPO   \n",
      "2422           sp|P11142|HSP7C_HUMAN   \n",
      "2423            sp|P9WJL3|MURE_MYCTU   \n",
      "2424           sp|P25153|UBCD6_DROME   \n",
      "2425           sp|Q7SB49|DNLI4_NEUCR   \n",
      "2426  tr|A0A1F4G853|A0A1F4G853_9BURK   \n",
      "2427  tr|A0A1W9MGG1|A0A1W9MGG1_9DELT   \n",
      "2428  tr|A0A1W9MD34|A0A1W9MD34_9DELT   \n",
      "2429            sp|P62987|RL40_HUMAN   \n",
      "2430            sp|Q6C093|UBC2_YARLI   \n",
      "2431            sp|Q75EB8|UBC2_ASHGO   \n",
      "2432            sp|P63283|UBC9_CHICK   \n",
      "2433              sp|O19069|SUCA_PIG   \n",
      "2434            sp|O33469|PAAK_PSEPU   \n",
      "2435          tr|F6SA46|F6SA46_MONDO   \n",
      "2436           sp|Q69ZI1|SH3R1_MOUSE   \n",
      "2437            sp|Q59A32|PUR2_BOVIN   \n",
      "2438            sp|P63208|SKP1_HUMAN   \n",
      "2439             sp|Q57834|SYY_METJA   \n",
      "2440            sp|Q6DRC0|SYSC_DANRE   \n",
      "2441            sp|Q5ST30|SYVM_HUMAN   \n",
      "2442           sp|Q3UNX5|ACSM3_MOUSE   \n",
      "2443            sp|Q04781|LTN1_YEAST   \n",
      "2444          tr|F6X700|F6X700_HORSE   \n",
      "2445           sp|Q96LR5|UB2E2_HUMAN   \n",
      "2446           sp|P61085|UBE2K_BOVIN   \n",
      "2447           sp|Q8NHG8|ZNRF2_HUMAN   \n",
      "2448           sp|M9MRI4|TRIM9_DROME   \n",
      "2449            sp|Q0IMG9|SL11_ORYSJ   \n",
      "\n",
      "                                             SequenceID  \n",
      "0     MSSLAKSSFYSPPDESQLEFIPSDFESINVGDVDVGTRSSWASSQK...  \n",
      "1     MLSEQDRNIIKATVPVLEQHGATITSLFYKNMLNEHEELRNVFNRI...  \n",
      "2     MSEDFKERLQLFNITAEDYKNLPALKAIIERYGSKALDYLYNHLTH...  \n",
      "3     MSSLAKSSFYSPPDESQLEFIPSDFESINVGDVDVGTRSSWASSQK...  \n",
      "4     MLSEQDRNIIKATVPVLEQHGATITSLFYKNMLNEHEELRNVFNRI...  \n",
      "5     MSSLARSSFYSPLDQSQLEFIPSDVESINAGDTDPFPRSSWASSQR...  \n",
      "6     MVAMLNQQVREIVKATVPVLEQHGTTITSTFYKNMLGEHEELRNVF...  \n",
      "7     MSHSTSVGTYTSAASLLELHDLSEADLALIRKFGDLMLPKLHEYVG...  \n",
      "8     MSEGPVKFEKNTVISVFGASGDLAKKKTFPALFGLFREGYLDPSTK...  \n",
      "9     MNQYNGWTFVVLSSLLTILGALTVYLDSIYNALTPKWLSKRYPLQI...  \n",
      "10    MNQYNGWTFVLLSSLLTILGALTVYLDSIYNALTPKWLSKRYPLQI...  \n",
      "11    MLSPETRSIIKATVPVLEQHGTTITSTFYKNMLNEHEELRNVFNRI...  \n",
      "12    MSIPKQSFYSPLDQSQIEYVPSDLESVNDSEQDHPLESLRTLSQTD...  \n",
      "13    MLSPETRSIIKATVPVLEQHGTTITSVFYKNMLNEHEELRNVFNRI...  \n",
      "14    MSSPKQGFYSPLDQSQIEYVHHDLMSVYDSDGEAGPSIRSRGDSSH...  \n",
      "15    MQSLQEKASEWSGVSIGEAFAIDEVNIFDKIGGLNTFIALSTNFYN...  \n",
      "16    MVTKIASEQKIEFSDDQEALVVNSWNVMKQNSEELSLKMFLRIFEI...  \n",
      "17    MKREILHLEDVQLLVDTFYTKVRQDGLLGPIFENVIQDQWSKHLNK...  \n",
      "18    MEKKEIKTRQDVRLLVDTFYGKIREEETLGPIFNGIISDWEAHLEL...  \n",
      "19    MAEDFKERLKLFNVTAGDYKNFPALKKIVERHGQKTLDYLYTHLTR...  \n",
      "20    MAEDFKERLKLFNVTAGDYKNFPALKKIVERHGQKTLDYLYTHLTR...  \n",
      "21    MSGPTSLAGAEEEEQTNYHTPDETGLTKSQKVALIAAWSIVKKDLV...  \n",
      "22    MGCELTKLASSSNGSNSKSNNVPSLDACGPPPVDSRLPLTAKQKYT...  \n",
      "23    MALIRKDLDVHGRNMLLLLFHKHPHYVGYFDFTDDTAAQTLVDNKS...  \n",
      "24    MLSSAEKELIAEIWDKMTPVAEEIGSEALLRMFTTFPKTKTYFSHL...  \n",
      "25    MSRRKQSNPRQIKRSLGDMEAREEVQLVGASHMEQKATAPEAPSPP...  \n",
      "26    MSRRKQSNPRQIKRSLRDMEAGEEAKAMDSSPKEQEAPDPEAPAIE...  \n",
      "27    MQSLQDKASEWSGVAAADAFAIDDVNIFEYLGGTPQPFVDLSTNFY...  \n",
      "28    MQSLQDKASEWSGVAAADAFAIDDVNIFEYLGGTPQPFVDLSTNFY...  \n",
      "29    MGGPPLFSQRRGKVARHPALIGRHRPFLVTHRAAERWLHHMQQALD...  \n",
      "...                                                 ...  \n",
      "2420  MRYLELAQLYQKLEKTTMKLIKTRLVADFLKKVPDDHLEFIPYLIL...  \n",
      "2421  MSNSAQSRRIRVTIVAADGLYKRDVFRFPDPFAVLTVDGEQTHTTT...  \n",
      "2422  MSKGPAVGIDLGTTYSCVGVFQHGKVEIIANDQGNRTTPSYVAFTD...  \n",
      "2423  MSSLARGISRRRTEVATQVEAAPTGLRPNAVVGVRLAALADQVGAA...  \n",
      "2424  MSTPARRRLMRDFKRLQEDPPTGVSGAPTDNNIMIWNAVIFGPHDT...  \n",
      "2425  MNTNRRSRSPDEEALEEDQHQYGAGTLSLEELDEHFPNRPRNHSKT...  \n",
      "2426  MHHLPDTAAALAWLRTQGVADLTVDSRAVPALKDVAFIAWPGAARD...  \n",
      "2427  MKTVKTLGELLAGVEHVVRRGGARALSRRLQGVSDDSRRVLPGELF...  \n",
      "2428  MKTAKTLGALLAGVEHVVRRGGARAVFRRVTGVSDDSRRVRPGELF...  \n",
      "2429  MQIFVKTLTGKTITLEVEPSDTIENVKAKIQDKEGIPPDQQRLIFA...  \n",
      "2430  MSTTARRRLMRDFKRMQQDPPQGVSASPVADNVLTWNAVIIGPAET...  \n",
      "2431  MSTPARRRLMRDFKRMKEDAPPGVSASPLPDNVMVWNAMIIGPADT...  \n",
      "2432  MSGIALSRLAQERKAWRKDHPFGFVAVPTKNPDGTMNLMNWECAIP...  \n",
      "2433  MTAALVAAPAAATMASGSSGLAAARLLSRSFLLQQNGIRHCSYTAS...  \n",
      "2434  MNMYHDADRALLDPMETASVDALRQHQLERLRWSLKHAYDNVPLYR...  \n",
      "2435  MATSQPSRTVASQVPFADLCSTLERIQKSKARPEKIKYFKEFLDSW...  \n",
      "2436  MDESALLDLLECPVCLERLDASAKVLPCQHTFCKRCLLGIVGSRNE...  \n",
      "2437  MAARVLVIGNGGREHTLAWKLAQSTHVKQVLVTPGNAGTACSEKIS...  \n",
      "2438  MPSIKLQSSDGEIFEVDVEIAKQSVTIKTMLEDLGMDDEGDDDPVP...  \n",
      "2439  MDEFEMIKRNTSEIISEEELREVLKKDEKSAYIGFEPSGKIHLGHY...  \n",
      "2440  MVLDLDLFRTDKGGDPEIIRETQRKRFKDVSLVDKLVQADTEWRKC...  \n",
      "2441  MPHLPLASFRPPFWGLRHSRGLPRFHSVSTQSEPHGSPISRRNREA...  \n",
      "2442  MVMLLRARCFQRLAIPDPMRVLYKDYRTATPQNFSNYESMKQDFKI...  \n",
      "2443  MSFGGINTFQQYNTDLGLGHNGVRISLNYFDGLPDPSLLNSLYSNE...  \n",
      "2444  TVASHVPFADLCSTLERIQKSKGRAEKIRHFKEFLDSWRKFHDALH...  \n",
      "2445  MSTEAQRVDDSPSTSGGSSDGDQRESVQQEPEREQVQPKKKEGKIS...  \n",
      "2446  MANIAVQRIKREFKEVLKSEETSKNQIKVDLVDENFTELRGEIAGP...  \n",
      "2447  MGAKQSGPAAANGRTRAYSGSDLPSSSSGGANGTAGGGGGARAAAA...  \n",
      "2448  MEDELRCPTCKQLYANPVLLPCFHALCLGCALDIQTPYSPGSALPG...  \n",
      "2449  MAGDRAEEEEGEAPPPEARAAAAVERVAAAVEAVAAGAGAGAGEYR...  \n",
      "\n",
      "[2450 rows x 2 columns]\n"
     ]
    }
   ],
   "source": [
    "from Bio import SeqIO\n",
    "\n",
    "meta=[]\n",
    "sequence=[]\n",
    "seq = input('Enter file name:')\n",
    "for seq_record in SeqIO.parse(seq, \"fasta\"):\n",
    "    #sys.stdout.write(str(seq_record.id)+'\\n'+str(seq_record.seq)+'\\n')\n",
    "    meta.append(str(seq_record.id))\n",
    "    sequence.append(str(seq_record.seq))\n",
    "#print(sequence)\n",
    "\n",
    "import pandas as pd\n",
    "\n",
    "\n",
    "df= pd.DataFrame(data ={'Meta':meta,'SequenceID':sequence})\n",
    "print(df)\n",
    "\n",
    "df.to_csv(\"./final_data_csv.csv\", sep=',',index=False) #Put you out file name in place of \"output\"\n",
    "\n",
    "\n"
   ]
  },
  {
   "cell_type": "code",
   "execution_count": 2,
   "metadata": {},
   "outputs": [
    {
     "data": {
      "text/plain": [
       "1000"
      ]
     },
     "execution_count": 2,
     "metadata": {},
     "output_type": "execute_result"
    }
   ],
   "source": [
    "len(sequence)"
   ]
  },
  {
   "cell_type": "code",
   "execution_count": 3,
   "metadata": {},
   "outputs": [
    {
     "data": {
      "text/plain": [
       "1000"
      ]
     },
     "execution_count": 3,
     "metadata": {},
     "output_type": "execute_result"
    }
   ],
   "source": [
    "len(meta)"
   ]
  },
  {
   "cell_type": "code",
   "execution_count": null,
   "metadata": {
    "collapsed": true
   },
   "outputs": [],
   "source": []
  },
  {
   "cell_type": "code",
   "execution_count": null,
   "metadata": {
    "collapsed": true
   },
   "outputs": [],
   "source": []
  }
 ],
 "metadata": {
  "kernelspec": {
   "display_name": "Python 3",
   "language": "python",
   "name": "python3"
  },
  "language_info": {
   "codemirror_mode": {
    "name": "ipython",
    "version": 3
   },
   "file_extension": ".py",
   "mimetype": "text/x-python",
   "name": "python",
   "nbconvert_exporter": "python",
   "pygments_lexer": "ipython3",
   "version": "3.6.3"
  }
 },
 "nbformat": 4,
 "nbformat_minor": 2
}
